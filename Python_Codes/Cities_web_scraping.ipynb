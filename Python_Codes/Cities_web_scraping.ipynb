{
 "cells": [
  {
   "cell_type": "markdown",
   "metadata": {},
   "source": [
    "Importing the necessary libraries"
   ]
  },
  {
   "cell_type": "code",
   "execution_count": 1,
   "metadata": {
    "id": "QBoJpO37dCVe"
   },
   "outputs": [],
   "source": [
    "import pandas as pd\n",
    "import requests\n",
    "from bs4 import BeautifulSoup #Python library called BeautifulSoup\n",
    "import re"
   ]
  },
  {
   "cell_type": "markdown",
   "metadata": {
    "id": "L590xWn3cqH-"
   },
   "source": [
    "#For Berlin City"
   ]
  },
  {
   "cell_type": "markdown",
   "metadata": {
    "id": "FoKDepJieIts"
   },
   "source": [
    "# Data Scraping"
   ]
  },
  {
   "cell_type": "markdown",
   "metadata": {},
   "source": [
    "## Berlin"
   ]
  },
  {
   "cell_type": "code",
   "execution_count": 2,
   "metadata": {
    "id": "SeoKT_J1bcUb"
   },
   "outputs": [],
   "source": [
    "#Loading the HTML\n",
    "url_berlin = \"https://en.wikipedia.org/wiki/Berlin\"  # The page we want to scrap data from\n",
    "\n",
    "response_berlin = requests.get(url_berlin) # Getting the response\n",
    "\n",
    "soup_berlin = BeautifulSoup(response_berlin.content, 'html.parser') # Creating the soup"
   ]
  },
  {
   "cell_type": "markdown",
   "metadata": {
    "id": "aWRy9EZTm58X"
   },
   "source": [
    "### Country"
   ]
  },
  {
   "cell_type": "code",
   "execution_count": 3,
   "metadata": {
    "colab": {
     "base_uri": "https://localhost:8080/",
     "height": 35
    },
    "id": "_T45ioh6qL9v",
    "outputId": "eb5b0239-60d0-4008-97e4-f351ab411c93"
   },
   "outputs": [
    {
     "data": {
      "text/plain": [
       "'Germany'"
      ]
     },
     "execution_count": 3,
     "metadata": {},
     "output_type": "execute_result"
    }
   ],
   "source": [
    "country_b = soup_berlin.select('a[href][title=\"Germany\"]')\n",
    "country_b[0].get_text()"
   ]
  },
  {
   "cell_type": "code",
   "execution_count": 30,
   "metadata": {
    "colab": {
     "base_uri": "https://localhost:8080/"
    },
    "id": "NiTudMrEymvw",
    "outputId": "a381fc6a-c668-4abb-8344-5da12003e47f"
   },
   "outputs": [
    {
     "data": {
      "text/plain": [
       "[<td class=\"infobox-data\">Germany</td>,\n",
       " <td class=\"infobox-data\"><a href=\"/wiki/Boroughs_and_neighborhoods_of_Berlin\" title=\"Boroughs and neighborhoods of Berlin\">Berlin</a></td>,\n",
       " <td class=\"infobox-data agent\"><a href=\"/wiki/Abgeordnetenhaus_of_Berlin\" title=\"Abgeordnetenhaus of Berlin\">Abgeordnetenhaus of Berlin</a></td>,\n",
       " <td class=\"infobox-data\"><a href=\"/wiki/Kai_Wegner\" title=\"Kai Wegner\">Kai Wegner</a> (<a href=\"/wiki/Christian_Democratic_Union_of_Germany\" title=\"Christian Democratic Union of Germany\">CDU</a>)</td>,\n",
       " <td class=\"infobox-data\">4 (of 69)</td>,\n",
       " <td class=\"infobox-data\"><a href=\"/wiki/Results_of_the_2021_German_federal_election#Berlin\" title=\"Results of the 2021 German federal election\">29 (of 736)</a></td>,\n",
       " <td class=\"infobox-data\">891.3 km<sup>2</sup> (344.1 sq mi)</td>,\n",
       " <td class=\"infobox-data\">3,743 km<sup>2</sup> (1,445 sq mi)</td>,\n",
       " <td class=\"infobox-data\">30,546 km<sup>2</sup> (11,794 sq mi)</td>,\n",
       " <td class=\"infobox-data\">34 m (112 ft)</td>,\n",
       " <td class=\"infobox-data\">3,878,100</td>,\n",
       " <td class=\"infobox-data\"><a href=\"/wiki/List_of_European_cities_by_population_within_city_limits\" title=\"List of European cities by population within city limits\">5th</a> in Europe<br/><a href=\"/wiki/List_of_cities_in_Germany_by_population\" title=\"List of cities in Germany by population\">1st</a> in Germany</td>,\n",
       " <td class=\"infobox-data\">4,213/km<sup>2</sup> (10,910/sq mi)</td>,\n",
       " <td class=\"infobox-data\">4,768,142</td>,\n",
       " <td class=\"infobox-data\">1,274/km<sup>2</sup> (3,300/sq mi)</td>,\n",
       " <td class=\"infobox-data\">6,144,600</td>,\n",
       " <td class=\"infobox-data\">201/km<sup>2</sup> (520/sq mi)</td>,\n",
       " <td class=\"infobox-data\">Berliner(s) (English)<br/>Berliner (m), Berlinerin (f) (German)</td>,\n",
       " <td class=\"infobox-data\">€179.379 billion (2022)</td>,\n",
       " <td class=\"infobox-data\">€268.179 billion (2022)</td>,\n",
       " <td class=\"infobox-data\"><a href=\"/wiki/UTC%2B01:00\" title=\"UTC+01:00\">UTC+01:00</a> (<a href=\"/wiki/Central_European_Time\" title=\"Central European Time\">CET</a>)</td>,\n",
       " <td class=\"infobox-data\"><a href=\"/wiki/UTC%2B02:00\" title=\"UTC+02:00\">UTC+02:00</a> (<a href=\"/wiki/Central_European_Summer_Time\" title=\"Central European Summer Time\">CEST</a>)</td>,\n",
       " <td class=\"infobox-data\"><a href=\"/wiki/List_of_dialling_codes_in_Germany#030_–_Berlin\" title=\"List of dialling codes in Germany\">030</a></td>,\n",
       " <td class=\"infobox-data nickname\"><a href=\"/wiki/Nomenclature_of_Territorial_Units_for_Statistics\" title=\"Nomenclature of Territorial Units for Statistics\">NUTS Region</a>: DE3</td>,\n",
       " <td class=\"infobox-data nickname\">DE-BE</td>,\n",
       " <td class=\"infobox-data\">B</td>,\n",
       " <td class=\"infobox-data\"><a href=\"/wiki/.berlin\" title=\".berlin\">.berlin</a></td>,\n",
       " <td class=\"infobox-data\">0.959<sup class=\"reference\" id=\"cite_ref-GlobalDataLab_9-0\"><a href=\"#cite_note-GlobalDataLab-9\">[9]</a></sup><br/><style data-mw-deduplicate=\"TemplateStyles:r1220487116\">html.skin-theme-clientpref-night .mw-parser-output div:not(.notheme)>.tmp-color,html.skin-theme-clientpref-night .mw-parser-output p>.tmp-color,html.skin-theme-clientpref-night .mw-parser-output table:not(.notheme) .tmp-color{color:inherit!important}@media(prefers-color-scheme:dark){html.skin-theme-clientpref-os .mw-parser-output div:not(.notheme)>.tmp-color,html.skin-theme-clientpref-os .mw-parser-output p>.tmp-color,html.skin-theme-clientpref-os .mw-parser-output table:not(.notheme) .tmp-color{color:inherit!important}}</style><span class=\"tmp-color\" style=\"color:green\">very high</span> · <a href=\"/wiki/List_of_German_states_by_Human_Development_Index\" title=\"List of German states by Human Development Index\">2nd of 16</a></td>,\n",
       " <td class=\"infobox-data\"><span class=\"url\"><a class=\"external text\" href=\"https://www.berlin.de/en/\" rel=\"nofollow\">berlin.de</a></span></td>]"
      ]
     },
     "execution_count": 30,
     "metadata": {},
     "output_type": "execute_result"
    }
   ],
   "source": [
    "# Other option\n",
    "soup_berlin.find_all(class_='infobox-data')"
   ]
  },
  {
   "cell_type": "code",
   "execution_count": 4,
   "metadata": {
    "colab": {
     "base_uri": "https://localhost:8080/"
    },
    "id": "KMgysnMJyzwW",
    "outputId": "f9e49679-6f24-4290-883f-bf6724183336"
   },
   "outputs": [
    {
     "data": {
      "text/plain": [
       "<td class=\"infobox-data\">Germany</td>"
      ]
     },
     "execution_count": 4,
     "metadata": {},
     "output_type": "execute_result"
    }
   ],
   "source": [
    "#Only interested in the 1st line thus we can use find() instead of find_all()\n",
    "soup_berlin.find(class_='infobox-data')"
   ]
  },
  {
   "cell_type": "code",
   "execution_count": 5,
   "metadata": {
    "colab": {
     "base_uri": "https://localhost:8080/",
     "height": 35
    },
    "id": "zfMJHQ_AzEQG",
    "outputId": "de45c414-fcc9-4f6f-f285-e08bf9d764cd"
   },
   "outputs": [
    {
     "data": {
      "text/plain": [
       "'Germany'"
      ]
     },
     "execution_count": 5,
     "metadata": {},
     "output_type": "execute_result"
    }
   ],
   "source": [
    "#Extracting the text from the above element\n",
    "soup_berlin.find(class_='infobox-data').get_text()"
   ]
  },
  {
   "cell_type": "markdown",
   "metadata": {
    "id": "JjgK2sqsm-81"
   },
   "source": [
    "### Latitude"
   ]
  },
  {
   "cell_type": "code",
   "execution_count": 6,
   "metadata": {
    "colab": {
     "base_uri": "https://localhost:8080/"
    },
    "id": "0Y8sI91xiwu6",
    "outputId": "26704187-6fb5-402e-bac0-81f836d5e745"
   },
   "outputs": [
    {
     "name": "stdout",
     "output_type": "stream",
     "text": [
      "Latitude: 52°31′12″N\n"
     ]
    }
   ],
   "source": [
    "latitude_berlin = soup_berlin.find('span', class_='latitude').get_text()\n",
    "\n",
    "print(f\"Latitude: {latitude_berlin}\")"
   ]
  },
  {
   "cell_type": "markdown",
   "metadata": {
    "id": "2igFXIpvnBF9"
   },
   "source": [
    "### Longitude"
   ]
  },
  {
   "cell_type": "code",
   "execution_count": 7,
   "metadata": {
    "colab": {
     "base_uri": "https://localhost:8080/"
    },
    "id": "qOBd1OOomccP",
    "outputId": "5b2b9436-7ce0-4d41-ec82-f2a440de9de0"
   },
   "outputs": [
    {
     "name": "stdout",
     "output_type": "stream",
     "text": [
      "longitude: 13°24′18″E\n"
     ]
    }
   ],
   "source": [
    "longitude_berlin = soup_berlin.find('span', class_='longitude').get_text()\n",
    "\n",
    "print(f\"longitude: {longitude_berlin}\")"
   ]
  },
  {
   "cell_type": "markdown",
   "metadata": {
    "id": "r-NetSd3n2XW"
   },
   "source": [
    "## Hamburg"
   ]
  },
  {
   "cell_type": "code",
   "execution_count": 8,
   "metadata": {
    "id": "jnlKbW3Gn6eN"
   },
   "outputs": [],
   "source": [
    "#Loading the HTML\n",
    "url_hamburg = \"https://en.wikipedia.org/wiki/Hamburg\"  # The page we want to scrap data from\n",
    "\n",
    "response_hamburg = requests.get(url_hamburg) # Getting the response\n",
    "\n",
    "soup_hamburg = BeautifulSoup(response_hamburg.content, 'html.parser') # Creating the soup"
   ]
  },
  {
   "cell_type": "markdown",
   "metadata": {},
   "source": [
    "### Country"
   ]
  },
  {
   "cell_type": "code",
   "execution_count": 9,
   "metadata": {
    "colab": {
     "base_uri": "https://localhost:8080/",
     "height": 35
    },
    "id": "TlXfg-74oLE2",
    "outputId": "4871c3db-5297-4841-c7d0-34f38f3fe8cf"
   },
   "outputs": [
    {
     "data": {
      "text/plain": [
       "'Germany'"
      ]
     },
     "execution_count": 9,
     "metadata": {},
     "output_type": "execute_result"
    }
   ],
   "source": [
    "country_h = soup_hamburg.select('a[href][title=\"Germany\"]')\n",
    "country_h[0].get_text()"
   ]
  },
  {
   "cell_type": "markdown",
   "metadata": {
    "id": "TAfOU41foLbl"
   },
   "source": [
    "### Latitude"
   ]
  },
  {
   "cell_type": "code",
   "execution_count": 10,
   "metadata": {
    "colab": {
     "base_uri": "https://localhost:8080/"
    },
    "id": "lHaFzg_1oPMt",
    "outputId": "bf2d1628-5786-4840-8355-4441ff29fa48"
   },
   "outputs": [
    {
     "name": "stdout",
     "output_type": "stream",
     "text": [
      "Latitude: 53°33′N\n"
     ]
    }
   ],
   "source": [
    "latitude_hamburg = soup_hamburg.find('span', class_='latitude').get_text()\n",
    "\n",
    "print(f\"Latitude: {latitude_hamburg}\")"
   ]
  },
  {
   "cell_type": "markdown",
   "metadata": {
    "id": "PgirhiR1oPdu"
   },
   "source": [
    "### Longitude"
   ]
  },
  {
   "cell_type": "code",
   "execution_count": 11,
   "metadata": {
    "colab": {
     "base_uri": "https://localhost:8080/"
    },
    "id": "HvaDoCrvoQ8F",
    "outputId": "10199129-5719-49f9-dc64-e21223069fc2"
   },
   "outputs": [
    {
     "name": "stdout",
     "output_type": "stream",
     "text": [
      "longitude: 10°00′E\n"
     ]
    }
   ],
   "source": [
    "longitude_hamburg = soup_hamburg.find('span', class_='longitude').get_text()\n",
    "\n",
    "print(f\"longitude: {longitude_hamburg}\")"
   ]
  },
  {
   "cell_type": "markdown",
   "metadata": {
    "id": "aN949SMIpEsn"
   },
   "source": [
    "## Munich"
   ]
  },
  {
   "cell_type": "code",
   "execution_count": 12,
   "metadata": {
    "id": "BMvDzf58pGt-"
   },
   "outputs": [],
   "source": [
    "#Loading the HTML\n",
    "url_munich = \"https://en.wikipedia.org/wiki/Munich\"  # The page we want to scrap data from\n",
    "\n",
    "response_munich = requests.get(url_munich) # Getting the response\n",
    "\n",
    "soup_munich = BeautifulSoup(response_munich.content, 'html.parser') # Creating the soup"
   ]
  },
  {
   "cell_type": "markdown",
   "metadata": {
    "id": "a0EsOs-bpHSN"
   },
   "source": [
    "### Country"
   ]
  },
  {
   "cell_type": "code",
   "execution_count": 13,
   "metadata": {
    "colab": {
     "base_uri": "https://localhost:8080/",
     "height": 35
    },
    "id": "5xA9OrVBpHnk",
    "outputId": "33e3997b-83c2-4b56-93e5-edf0281b4ddf"
   },
   "outputs": [
    {
     "data": {
      "text/plain": [
       "'Germany'"
      ]
     },
     "execution_count": 13,
     "metadata": {},
     "output_type": "execute_result"
    }
   ],
   "source": [
    "country_m = soup_munich.select('a[href][title=\"Germany\"]')\n",
    "country_m[0].get_text()"
   ]
  },
  {
   "cell_type": "markdown",
   "metadata": {
    "id": "VImu6DD6pIBF"
   },
   "source": [
    "### Latitude"
   ]
  },
  {
   "cell_type": "code",
   "execution_count": 14,
   "metadata": {
    "colab": {
     "base_uri": "https://localhost:8080/"
    },
    "id": "Ln5Ubcc7pIV0",
    "outputId": "bc35d8d6-a448-44bf-ec56-c1c83e221eac"
   },
   "outputs": [
    {
     "name": "stdout",
     "output_type": "stream",
     "text": [
      "Latitude: 48°08′15″N\n"
     ]
    }
   ],
   "source": [
    "latitude_munich = soup_munich.find('span', class_='latitude').get_text()\n",
    "\n",
    "print(f\"Latitude: {latitude_munich}\")"
   ]
  },
  {
   "cell_type": "markdown",
   "metadata": {
    "id": "r0OtstGOpo9G"
   },
   "source": [
    "### Longitude"
   ]
  },
  {
   "cell_type": "code",
   "execution_count": 15,
   "metadata": {
    "colab": {
     "base_uri": "https://localhost:8080/"
    },
    "id": "0vwURRQVppQE",
    "outputId": "42f11729-edd7-4096-c18c-10569d38d2ac"
   },
   "outputs": [
    {
     "name": "stdout",
     "output_type": "stream",
     "text": [
      "longitude: 11°34′30″E\n"
     ]
    }
   ],
   "source": [
    "longitude_munich = soup_munich.find('span', class_='longitude').get_text()\n",
    "\n",
    "print(f\"longitude: {longitude_munich}\")"
   ]
  },
  {
   "cell_type": "markdown",
   "metadata": {
    "id": "-lsZJJZ2zapx"
   },
   "source": [
    "# Creating the Loop"
   ]
  },
  {
   "cell_type": "code",
   "execution_count": 16,
   "metadata": {
    "id": "VYYBud94zeGO"
   },
   "outputs": [],
   "source": [
    "cities = [\"Berlin\", \"Hamburg\", \"Munich\"]\n",
    "\n",
    "countries=[]\n",
    "latitudes=[]\n",
    "longitudes=[]\n",
    "\n",
    "for city in cities:\n",
    "  # getting the soup for city\n",
    "  url = f\"https://www.wikipedia.org/wiki/{city}\"\n",
    "  response = requests.get(url)\n",
    "  city_soup = BeautifulSoup(response.content, 'html.parser')\n",
    "\n",
    "# Extracting the data\n",
    "  city_country = city_soup.find(class_=\"infobox-data\").get_text()\n",
    "  city_latitude = city_soup.find(class_=\"latitude\").get_text()\n",
    "  city_longitude = city_soup.find(class_=\"longitude\").get_text()\n",
    "\n",
    "# Appending to empty lists\n",
    "  countries.append(city_country)\n",
    "  latitudes.append(city_latitude)\n",
    "  longitudes.append(city_longitude)"
   ]
  },
  {
   "cell_type": "code",
   "execution_count": 17,
   "metadata": {
    "colab": {
     "base_uri": "https://localhost:8080/"
    },
    "id": "69Mcg5tS0RjN",
    "outputId": "1fbdf22c-40f7-4edf-ab15-288ad1015f89"
   },
   "outputs": [
    {
     "name": "stdout",
     "output_type": "stream",
     "text": [
      "The cities are in the following countries: ['Germany', 'Germany', 'Germany']\n",
      "The cities have the following latitudes: ['52°31′12″N', '53°33′N', '48°08′15″N']\n",
      "The cities have the following longitudes: ['13°24′18″E', '10°00′E', '11°34′30″E']\n"
     ]
    }
   ],
   "source": [
    "print(f\"The cities are in the following countries: {countries}\")\n",
    "print(f\"The cities have the following latitudes: {latitudes}\")\n",
    "print(f\"The cities have the following longitudes: {longitudes}\")"
   ]
  },
  {
   "cell_type": "markdown",
   "metadata": {
    "id": "cz8r-mK30ddQ"
   },
   "source": [
    "# Creating Data-Frame"
   ]
  },
  {
   "cell_type": "code",
   "execution_count": 19,
   "metadata": {
    "colab": {
     "base_uri": "https://localhost:8080/",
     "height": 143
    },
    "id": "hxyefaim0i0E",
    "outputId": "511a2e60-a6d6-4596-b2e0-1bfc87622b83"
   },
   "outputs": [
    {
     "data": {
      "text/html": [
       "<div>\n",
       "<style scoped>\n",
       "    .dataframe tbody tr th:only-of-type {\n",
       "        vertical-align: middle;\n",
       "    }\n",
       "\n",
       "    .dataframe tbody tr th {\n",
       "        vertical-align: top;\n",
       "    }\n",
       "\n",
       "    .dataframe thead th {\n",
       "        text-align: right;\n",
       "    }\n",
       "</style>\n",
       "<table border=\"1\" class=\"dataframe\">\n",
       "  <thead>\n",
       "    <tr style=\"text-align: right;\">\n",
       "      <th></th>\n",
       "      <th>City</th>\n",
       "      <th>Country</th>\n",
       "      <th>Latitude</th>\n",
       "      <th>Longitude</th>\n",
       "    </tr>\n",
       "  </thead>\n",
       "  <tbody>\n",
       "    <tr>\n",
       "      <th>0</th>\n",
       "      <td>Berlin</td>\n",
       "      <td>Germany</td>\n",
       "      <td>52°31′12″N</td>\n",
       "      <td>13°24′18″E</td>\n",
       "    </tr>\n",
       "    <tr>\n",
       "      <th>1</th>\n",
       "      <td>Hamburg</td>\n",
       "      <td>Germany</td>\n",
       "      <td>53°33′N</td>\n",
       "      <td>10°00′E</td>\n",
       "    </tr>\n",
       "    <tr>\n",
       "      <th>2</th>\n",
       "      <td>Munich</td>\n",
       "      <td>Germany</td>\n",
       "      <td>48°08′15″N</td>\n",
       "      <td>11°34′30″E</td>\n",
       "    </tr>\n",
       "  </tbody>\n",
       "</table>\n",
       "</div>"
      ],
      "text/plain": [
       "      City  Country    Latitude   Longitude\n",
       "0   Berlin  Germany  52°31′12″N  13°24′18″E\n",
       "1  Hamburg  Germany     53°33′N     10°00′E\n",
       "2   Munich  Germany  48°08′15″N  11°34′30″E"
      ]
     },
     "execution_count": 19,
     "metadata": {},
     "output_type": "execute_result"
    }
   ],
   "source": [
    "cities_df = pd.DataFrame({\"City\": cities, \"Country\":countries, \"Latitude\": latitudes, \"Longitude\": longitudes})\n",
    "cities_df"
   ]
  },
  {
   "cell_type": "markdown",
   "metadata": {
    "id": "VgEcEmr41K-V"
   },
   "source": [
    "## Changing the latitudes & longitudes to decimal format"
   ]
  },
  {
   "cell_type": "code",
   "execution_count": 20,
   "metadata": {
    "colab": {
     "base_uri": "https://localhost:8080/"
    },
    "id": "G4ZHKg0D1RTu",
    "outputId": "11986853-1ea0-44f5-d649-e9e1f9e5c443"
   },
   "outputs": [
    {
     "name": "stdout",
     "output_type": "stream",
     "text": [
      "Defaulting to user installation because normal site-packages is not writeable\n",
      "Requirement already satisfied: lat-lon-parser in c:\\users\\user_name\\appdata\\roaming\\python\\python311\\site-packages (1.3.0)\n"
     ]
    }
   ],
   "source": [
    "#Installing a python library for the conversion\n",
    "!pip install lat-lon-parser"
   ]
  },
  {
   "cell_type": "code",
   "execution_count": 21,
   "metadata": {
    "colab": {
     "base_uri": "https://localhost:8080/"
    },
    "id": "5gnRu9gf1pkc",
    "outputId": "4bdb00c9-eaee-42ec-ae85-de5520adb1aa"
   },
   "outputs": [
    {
     "data": {
      "text/plain": [
       "52.519999999999996"
      ]
     },
     "execution_count": 21,
     "metadata": {},
     "output_type": "execute_result"
    }
   ],
   "source": [
    "from lat_lon_parser import parse\n",
    "\n",
    "parse(latitude_berlin)"
   ]
  },
  {
   "cell_type": "markdown",
   "metadata": {
    "id": "kr8BdVfA15WN"
   },
   "source": [
    "# Creating a python wrapper🍱"
   ]
  },
  {
   "cell_type": "code",
   "execution_count": 22,
   "metadata": {
    "id": "wB5VUC-i2Pht"
   },
   "outputs": [],
   "source": [
    "#Installing all the essential libraries first\n",
    "import pandas as pd\n",
    "import requests\n",
    "from bs4 import BeautifulSoup\n",
    "from lat_lon_parser import parse #For decimal coordinates"
   ]
  },
  {
   "cell_type": "code",
   "execution_count": 25,
   "metadata": {
    "id": "9GO_0t6v2Y57"
   },
   "outputs": [],
   "source": [
    "def cities_dataframe(cities):\n",
    "\n",
    "  city_data = []\n",
    "\n",
    "  for city in cities:\n",
    "    url = f\"https://www.wikipedia.org/wiki/{city}\"\n",
    "    response = requests.get(url)\n",
    "    city_soup = BeautifulSoup(response.content, 'html.parser')\n",
    "\n",
    "    # extract the relevant information\n",
    "    city_latitude = city_soup.find(class_=\"latitude\").get_text()\n",
    "    city_longitude = city_soup.find(class_=\"longitude\").get_text()\n",
    "    country = city_soup.find(class_=\"infobox-data\").get_text()\n",
    "\n",
    "    # Append the information to the empty lists\n",
    "    city_data.append({\"City\": city,\n",
    "                    \"Country\": country,\n",
    "                    \"Latitude\": parse(city_latitude), # latitude in decimal format\n",
    "                    \"Longitude\": parse(city_longitude), # longitude in decimal format\n",
    "                    })\n",
    "\n",
    "  return pd.DataFrame(city_data)"
   ]
  },
  {
   "cell_type": "code",
   "execution_count": 29,
   "metadata": {
    "colab": {
     "base_uri": "https://localhost:8080/",
     "height": 143
    },
    "id": "ZmB7tbew4EYN",
    "outputId": "0ccd2547-8028-4bb1-e27c-e9a2ce1bed3b"
   },
   "outputs": [
    {
     "data": {
      "text/html": [
       "<div>\n",
       "<style scoped>\n",
       "    .dataframe tbody tr th:only-of-type {\n",
       "        vertical-align: middle;\n",
       "    }\n",
       "\n",
       "    .dataframe tbody tr th {\n",
       "        vertical-align: top;\n",
       "    }\n",
       "\n",
       "    .dataframe thead th {\n",
       "        text-align: right;\n",
       "    }\n",
       "</style>\n",
       "<table border=\"1\" class=\"dataframe\">\n",
       "  <thead>\n",
       "    <tr style=\"text-align: right;\">\n",
       "      <th></th>\n",
       "      <th>City</th>\n",
       "      <th>Country</th>\n",
       "      <th>Latitude</th>\n",
       "      <th>Longitude</th>\n",
       "    </tr>\n",
       "  </thead>\n",
       "  <tbody>\n",
       "    <tr>\n",
       "      <th>0</th>\n",
       "      <td>Berlin</td>\n",
       "      <td>Germany</td>\n",
       "      <td>52.5200</td>\n",
       "      <td>13.405</td>\n",
       "    </tr>\n",
       "    <tr>\n",
       "      <th>1</th>\n",
       "      <td>Hamburg</td>\n",
       "      <td>Germany</td>\n",
       "      <td>53.5500</td>\n",
       "      <td>10.000</td>\n",
       "    </tr>\n",
       "    <tr>\n",
       "      <th>2</th>\n",
       "      <td>Munich</td>\n",
       "      <td>Germany</td>\n",
       "      <td>48.1375</td>\n",
       "      <td>11.575</td>\n",
       "    </tr>\n",
       "  </tbody>\n",
       "</table>\n",
       "</div>"
      ],
      "text/plain": [
       "      City  Country  Latitude  Longitude\n",
       "0   Berlin  Germany   52.5200     13.405\n",
       "1  Hamburg  Germany   53.5500     10.000\n",
       "2   Munich  Germany   48.1375     11.575"
      ]
     },
     "execution_count": 29,
     "metadata": {},
     "output_type": "execute_result"
    }
   ],
   "source": [
    "list_of_cities = [\"Berlin\", \"Hamburg\", \"Munich\"]\n",
    "\n",
    "cities_df = cities_dataframe(list_of_cities)\n",
    "cities_df"
   ]
  },
  {
   "cell_type": "code",
   "execution_count": 30,
   "metadata": {
    "colab": {
     "base_uri": "https://localhost:8080/",
     "height": 174
    },
    "id": "CGQuzHef4K6r",
    "outputId": "8fea820c-ad0b-4cbe-efe7-ab9fd4d2fe94"
   },
   "outputs": [
    {
     "data": {
      "text/html": [
       "<div>\n",
       "<style scoped>\n",
       "    .dataframe tbody tr th:only-of-type {\n",
       "        vertical-align: middle;\n",
       "    }\n",
       "\n",
       "    .dataframe tbody tr th {\n",
       "        vertical-align: top;\n",
       "    }\n",
       "\n",
       "    .dataframe thead th {\n",
       "        text-align: right;\n",
       "    }\n",
       "</style>\n",
       "<table border=\"1\" class=\"dataframe\">\n",
       "  <thead>\n",
       "    <tr style=\"text-align: right;\">\n",
       "      <th></th>\n",
       "      <th>City</th>\n",
       "      <th>Country</th>\n",
       "      <th>Latitude</th>\n",
       "      <th>Longitude</th>\n",
       "    </tr>\n",
       "  </thead>\n",
       "  <tbody>\n",
       "    <tr>\n",
       "      <th>0</th>\n",
       "      <td>Magdeburg</td>\n",
       "      <td>Germany</td>\n",
       "      <td>52.131667</td>\n",
       "      <td>11.639167</td>\n",
       "    </tr>\n",
       "    <tr>\n",
       "      <th>1</th>\n",
       "      <td>Barcelona</td>\n",
       "      <td>Spain</td>\n",
       "      <td>41.382778</td>\n",
       "      <td>2.176944</td>\n",
       "    </tr>\n",
       "    <tr>\n",
       "      <th>2</th>\n",
       "      <td>Bratislava</td>\n",
       "      <td>Slovakia</td>\n",
       "      <td>48.143889</td>\n",
       "      <td>17.109722</td>\n",
       "    </tr>\n",
       "    <tr>\n",
       "      <th>3</th>\n",
       "      <td>Stuttgart</td>\n",
       "      <td>Germany</td>\n",
       "      <td>48.777500</td>\n",
       "      <td>9.180000</td>\n",
       "    </tr>\n",
       "  </tbody>\n",
       "</table>\n",
       "</div>"
      ],
      "text/plain": [
       "         City    Country   Latitude  Longitude\n",
       "0   Magdeburg    Germany  52.131667  11.639167\n",
       "1   Barcelona      Spain  41.382778   2.176944\n",
       "2  Bratislava   Slovakia  48.143889  17.109722\n",
       "3   Stuttgart    Germany  48.777500   9.180000"
      ]
     },
     "execution_count": 30,
     "metadata": {},
     "output_type": "execute_result"
    }
   ],
   "source": [
    "#Adding new cities and calling the function will create a new dataframe for those cities\n",
    "cities_2 = [\"Magdeburg\", \"Barcelona\", \"Bratislava\", \"Stuttgart\"]\n",
    "\n",
    "cities_dataframe(cities_2)"
   ]
  },
  {
   "cell_type": "markdown",
   "metadata": {},
   "source": [
    "# Scraping Population"
   ]
  },
  {
   "cell_type": "code",
   "execution_count": 42,
   "metadata": {},
   "outputs": [
    {
     "data": {
      "text/plain": [
       "'3,878,100'"
      ]
     },
     "execution_count": 42,
     "metadata": {},
     "output_type": "execute_result"
    }
   ],
   "source": [
    "Berlin_Population = soup_berlin.find(string=\"Population\").find_next(\"td\").get_text()\n",
    "Berlin_Population"
   ]
  },
  {
   "cell_type": "code",
   "execution_count": 43,
   "metadata": {},
   "outputs": [],
   "source": [
    "Berlin_Population_Clean = Berlin_Population.replace(\",\", \"\")"
   ]
  },
  {
   "cell_type": "code",
   "execution_count": 46,
   "metadata": {},
   "outputs": [
    {
     "data": {
      "text/plain": [
       "3878100"
      ]
     },
     "execution_count": 46,
     "metadata": {},
     "output_type": "execute_result"
    }
   ],
   "source": [
    "Berlin_Population_Clean = int(Berlin_Population_Clean)\n",
    "Berlin_Population_Clean"
   ]
  },
  {
   "cell_type": "markdown",
   "metadata": {},
   "source": [
    "# Updating the loop"
   ]
  },
  {
   "cell_type": "code",
   "execution_count": 56,
   "metadata": {},
   "outputs": [
    {
     "data": {
      "text/html": [
       "<div>\n",
       "<style scoped>\n",
       "    .dataframe tbody tr th:only-of-type {\n",
       "        vertical-align: middle;\n",
       "    }\n",
       "\n",
       "    .dataframe tbody tr th {\n",
       "        vertical-align: top;\n",
       "    }\n",
       "\n",
       "    .dataframe thead th {\n",
       "        text-align: right;\n",
       "    }\n",
       "</style>\n",
       "<table border=\"1\" class=\"dataframe\">\n",
       "  <thead>\n",
       "    <tr style=\"text-align: right;\">\n",
       "      <th></th>\n",
       "      <th>City</th>\n",
       "      <th>Population</th>\n",
       "      <th>Timestamp</th>\n",
       "    </tr>\n",
       "  </thead>\n",
       "  <tbody>\n",
       "    <tr>\n",
       "      <th>0</th>\n",
       "      <td>Berlin</td>\n",
       "      <td>3878100</td>\n",
       "      <td>02.07.2024</td>\n",
       "    </tr>\n",
       "    <tr>\n",
       "      <th>1</th>\n",
       "      <td>Hamburg</td>\n",
       "      <td>1964021</td>\n",
       "      <td>02.07.2024</td>\n",
       "    </tr>\n",
       "    <tr>\n",
       "      <th>2</th>\n",
       "      <td>Munich</td>\n",
       "      <td>1512491</td>\n",
       "      <td>02.07.2024</td>\n",
       "    </tr>\n",
       "  </tbody>\n",
       "</table>\n",
       "</div>"
      ],
      "text/plain": [
       "      City  Population   Timestamp\n",
       "0   Berlin     3878100  02.07.2024\n",
       "1  Hamburg     1964021  02.07.2024\n",
       "2   Munich     1512491  02.07.2024"
      ]
     },
     "execution_count": 56,
     "metadata": {},
     "output_type": "execute_result"
    }
   ],
   "source": [
    "from datetime import datetime # to get today's date\n",
    "\n",
    "cities = [\"Berlin\", \"Hamburg\", \"Munich\"]\n",
    "\n",
    "# create one single list to keep track of all values (instead of having separate lists)\n",
    "population_data = []\n",
    "\n",
    "for city in cities:\n",
    "    url = f\"https://www.wikipedia.org/wiki/{city}\"\n",
    "    response = requests.get(url)\n",
    "    city_soup = BeautifulSoup(response.content, 'html.parser')\n",
    "\n",
    "    # extract the relevant information\n",
    "    city_population = city_soup.find(string=\"Population\").find_next(\"td\").get_text()\n",
    "    city_population_clean = city_population.replace(\",\", \"\")\n",
    "    today = datetime.today().strftime(\"%d.%m.%Y\")\n",
    "\n",
    "    # for each city we append a dictionary of values to the list\n",
    "    population_data.append({\"City\": city,\n",
    "                     \"Population\": int(city_population_clean),\n",
    "                     \"Timestamp\": today\n",
    "                    })\n",
    "\n",
    "population_data = pd.DataFrame(population_data)\n",
    "population_data"
   ]
  },
  {
   "cell_type": "markdown",
   "metadata": {},
   "source": [
    "# Updating the python wrapper🍱"
   ]
  },
  {
   "cell_type": "code",
   "execution_count": 59,
   "metadata": {},
   "outputs": [],
   "source": [
    "import pandas as pd\n",
    "import requests\n",
    "from bs4 import BeautifulSoup\n",
    "from datetime import datetime # to get today's date\n",
    "\n",
    "\n",
    "def populations_dataframe(cities):\n",
    "\n",
    "    population_data = []\n",
    "\n",
    "    for city in cities:\n",
    "        url = f\"https://www.wikipedia.org/wiki/{city}\"\n",
    "        response = requests.get(url)\n",
    "        city_soup = BeautifulSoup(response.content, 'html.parser')\n",
    "\n",
    "        # extract the relevant information\n",
    "        city_population = city_soup.find(string=\"Population\").find_next(\"td\").get_text()\n",
    "        city_population_clean = int(city_population.replace(\",\", \"\"))\n",
    "        today = datetime.today().strftime(\"%d.%m.%Y\")\n",
    "\n",
    "        # keep track of data per city\n",
    "        population_data.append({\"City\": city,\n",
    "                        \"Population\": city_population_clean,\n",
    "                        \"Timestamp\": today\n",
    "                        })\n",
    "\n",
    "    return pd.DataFrame(population_data)"
   ]
  },
  {
   "cell_type": "code",
   "execution_count": 60,
   "metadata": {},
   "outputs": [
    {
     "data": {
      "text/html": [
       "<div>\n",
       "<style scoped>\n",
       "    .dataframe tbody tr th:only-of-type {\n",
       "        vertical-align: middle;\n",
       "    }\n",
       "\n",
       "    .dataframe tbody tr th {\n",
       "        vertical-align: top;\n",
       "    }\n",
       "\n",
       "    .dataframe thead th {\n",
       "        text-align: right;\n",
       "    }\n",
       "</style>\n",
       "<table border=\"1\" class=\"dataframe\">\n",
       "  <thead>\n",
       "    <tr style=\"text-align: right;\">\n",
       "      <th></th>\n",
       "      <th>City</th>\n",
       "      <th>Population</th>\n",
       "      <th>Timestamp</th>\n",
       "    </tr>\n",
       "  </thead>\n",
       "  <tbody>\n",
       "    <tr>\n",
       "      <th>0</th>\n",
       "      <td>Berlin</td>\n",
       "      <td>3878100</td>\n",
       "      <td>02.07.2024</td>\n",
       "    </tr>\n",
       "    <tr>\n",
       "      <th>1</th>\n",
       "      <td>Hamburg</td>\n",
       "      <td>1964021</td>\n",
       "      <td>02.07.2024</td>\n",
       "    </tr>\n",
       "    <tr>\n",
       "      <th>2</th>\n",
       "      <td>Munich</td>\n",
       "      <td>1512491</td>\n",
       "      <td>02.07.2024</td>\n",
       "    </tr>\n",
       "  </tbody>\n",
       "</table>\n",
       "</div>"
      ],
      "text/plain": [
       "      City  Population   Timestamp\n",
       "0   Berlin     3878100  02.07.2024\n",
       "1  Hamburg     1964021  02.07.2024\n",
       "2   Munich     1512491  02.07.2024"
      ]
     },
     "execution_count": 60,
     "metadata": {},
     "output_type": "execute_result"
    }
   ],
   "source": [
    "# call the populations function\n",
    "cities = [\"Berlin\", \"Hamburg\", \"Munich\"]\n",
    "\n",
    "population_df = populations_dataframe(cities)\n",
    "population_df"
   ]
  }
 ],
 "metadata": {
  "colab": {
   "provenance": [],
   "toc_visible": true
  },
  "kernelspec": {
   "display_name": "Python 3 (ipykernel)",
   "language": "python",
   "name": "python3"
  },
  "language_info": {
   "codemirror_mode": {
    "name": "ipython",
    "version": 3
   },
   "file_extension": ".py",
   "mimetype": "text/x-python",
   "name": "python",
   "nbconvert_exporter": "python",
   "pygments_lexer": "ipython3",
   "version": "3.11.7"
  }
 },
 "nbformat": 4,
 "nbformat_minor": 4
}
